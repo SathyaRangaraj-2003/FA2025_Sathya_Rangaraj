{
 "cells": [
  {
   "cell_type": "code",
   "execution_count": 1,
   "id": "35c66d1b-fcd7-470d-962f-33d25235ddeb",
   "metadata": {},
   "outputs": [
    {
     "name": "stdout",
     "output_type": "stream",
     "text": [
      "sathya\n"
     ]
    }
   ],
   "source": [
    "print(\"sathya\")"
   ]
  }
 ],
 "metadata": {
  "kernelspec": {
   "display_name": "Python 3 (ipykernel)",
   "language": "python",
   "name": "python3"
  },
  "language_info": {
   "codemirror_mode": {
    "name": "ipython",
    "version": 3
   },
   "file_extension": ".py",
   "mimetype": "text/x-python",
   "name": "python",
   "nbconvert_exporter": "python",
   "pygments_lexer": "ipython3",
   "version": "3.13.5"
  }
 },
 "nbformat": 4,
 "nbformat_minor": 5
}
