{
 "cells": [
  {
   "cell_type": "code",
   "execution_count": null,
   "id": "35c66d1b-fcd7-470d-962f-33d25235ddeb",
   "metadata": {},
   "outputs": [],
   "source": []
  }
 ],
 "metadata": {
  "kernelspec": {
   "display_name": "",
   "name": ""
  },
  "language_info": {
   "name": ""
  }
 },
 "nbformat": 4,
 "nbformat_minor": 5
}
