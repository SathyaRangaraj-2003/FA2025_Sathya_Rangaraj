{
  "nbformat": 4,
  "nbformat_minor": 0,
  "metadata": {
    "colab": {
      "provenance": []
    },
    "kernelspec": {
      "name": "python3",
      "display_name": "Python 3"
    },
    "language_info": {
      "name": "python"
    }
  },
  "cells": [
    {
      "cell_type": "markdown",
      "metadata": {
        "id": "efd795a1"
      },
      "source": [
        "# Assessment Problem\n",
        "Write a Python script that processes sensor data from a zip file (`sensor_data_2025.zip`). The script should:\n",
        "1. Extract data from nested city zip files (e.g., `munich_data.zip`, `tokyo_data.zip`), reading ``readings.csv`` and `station_info.json` from each.\n",
        "2. Add a `city` column to each DataFrame with the city's name.\n",
        "3. Combine the data into two main DataFrames: one for readings and one for station info.\n",
        "4. Merge these two DataFrames on `station_id`.\n",
        "5. Clean the merged data by keeping only `active` stations and removing rows with missing `temperature_celsius` or `pm2_5`.\n",
        "6. Calculate the average temperature and PM2.5 for each city.\n",
        "7. Save the city summary as a CSV file named `city_summary_report.csv` with columns `city`, `average_temperature`, and `average_pm2_5`."
      ]
    },
    {
      "cell_type": "markdown",
      "metadata": {
        "id": "3a3730b0"
      },
      "source": [
        "## TASK 1: Load and combine data\n",
        "\n",
        "Go through each city's zip file, read the `readings.csv` and `station_info.json` files, add a 'city' column to each DataFrame, and combine them into `all_readings_df` and `all_station_info_df`.\n"
      ]
    },
    {
      "cell_type": "markdown",
      "metadata": {
        "id": "e84b1b8c"
      },
      "source": [
        "**Reasoning**:\n",
        "TASK 1 requires extracting data from nested zip files, processing them, and combining them into two dataframes. This involves using the zipfile library and pandas for data manipulation.\n",
        "\n"
      ]
    },
    {
      "cell_type": "code",
      "metadata": {
        "id": "bb305077"
      },
      "source": [
        "# WRITE YOUR CODE HERE"
      ],
      "execution_count": null,
      "outputs": []
    },
    {
      "cell_type": "markdown",
      "metadata": {
        "id": "e7aacbc0"
      },
      "source": [
        "## TASK 2: Merge dataframes\n",
        "\n",
        "Merge the `all_readings_df` and `all_station_info_df` into a single DataFrame using the `station_id` column.\n"
      ]
    },
    {
      "cell_type": "markdown",
      "metadata": {
        "id": "0dfaad49"
      },
      "source": [
        "**Reasoning**:\n",
        "Merge the two dataframes `all_readings_df` and `all_station_info_df` on the `station_id` column and display the head of the resulting dataframe to verify the merge.\n",
        "\n"
      ]
    },
    {
      "cell_type": "code",
      "metadata": {
        "id": "cf658701"
      },
      "source": [
        "# WRITE YOUR CODE HERE"
      ],
      "execution_count": null,
      "outputs": []
    },
    {
      "cell_type": "markdown",
      "metadata": {
        "id": "f453b143"
      },
      "source": [
        "## TASK 3: Clean data\n",
        "\n",
        "Filter the merged DataFrame to keep only 'active' stations and remove rows with missing values in 'temperature_celsius' or 'pm2_5'.\n"
      ]
    },
    {
      "cell_type": "markdown",
      "metadata": {
        "id": "88ecd5a3"
      },
      "source": [
        "**Reasoning**:\n",
        "Filter the merged dataframe to keep only active stations and remove rows with missing values in the specified columns.\n",
        "\n"
      ]
    },
    {
      "cell_type": "code",
      "metadata": {
        "id": "fa0aa6f0"
      },
      "source": [
        "# WRITE YOUR CODE HERE"
      ],
      "execution_count": 1,
      "outputs": []
    },
    {
      "cell_type": "markdown",
      "metadata": {
        "id": "5b6a3be6"
      },
      "source": [
        "## TASK 4: Analyze data\n",
        "\n",
        "Calculate the average 'temperature_celsius' and 'pm2_5' for each city.\n"
      ]
    },
    {
      "cell_type": "markdown",
      "metadata": {
        "id": "485603b4"
      },
      "source": [
        "**Reasoning**:\n",
        "Calculate the mean temperature and PM2.5 for each city by grouping the cleaned_df by city and applying the mean aggregation. Then display the head of the resulting dataframe.\n",
        "\n"
      ]
    },
    {
      "cell_type": "code",
      "metadata": {
        "id": "ac870825"
      },
      "source": [
        "# WRITE YOUR CODE HERE"
      ],
      "execution_count": 2,
      "outputs": []
    },
    {
      "cell_type": "markdown",
      "metadata": {
        "id": "40979f5f"
      },
      "source": [
        "## TASK 5: Save report\n",
        "\n",
        "Save the city summary as a CSV file named `city_summary_report.csv` with the specified columns.\n"
      ]
    },
    {
      "cell_type": "markdown",
      "metadata": {
        "id": "1842ff9e"
      },
      "source": [
        "**Reasoning**:\n",
        "Reset the index, rename the city column, and save the city summary DataFrame to a CSV file.\n",
        "\n"
      ]
    },
    {
      "cell_type": "code",
      "metadata": {
        "id": "2d720f4f"
      },
      "source": [
        "# WRITE YOUR CODE HERE"
      ],
      "execution_count": 3,
      "outputs": []
    }
  ]
}