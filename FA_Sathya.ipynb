{
 "cells": [
  {
   "cell_type": "code",
   "execution_count": 10,
   "id": "63cb9ebf-f632-444d-a4c1-58da40829227",
   "metadata": {},
   "outputs": [],
   "source": [
    "#unzipping given zipfile\n",
    "import zipfile\n",
    "\n",
    "def unzip(zip_file):\n",
    "    with zipfile.ZipFile(zip_file,'r') as zf:\n",
    "        zf.extractall()\n",
    "\n",
    "unzip(\"Python Assessment.zip\")\n"
   ]
  },
  {
   "cell_type": "code",
   "execution_count": 17,
   "id": "386ea6b2-8fd6-492e-b8fd-09de0c9dc996",
   "metadata": {},
   "outputs": [
    {
     "name": "stdout",
     "output_type": "stream",
     "text": [
      "['munich_data.zip', 'tokyo_data.zip', 'sydney_data.zip']\n"
     ]
    }
   ],
   "source": [
    "#unzipping given sensor_data_2025\n",
    "import zipfile,pd\n",
    "\n",
    "def unzip(zip_file,extract_to):\n",
    "    with zipfile.ZipFile(zip_file,'r') as zf:\n",
    "        zf.extractall(extract_to)\n",
    "        return zf.namelist()\n",
    "\n",
    "inner_zip = unzip(\"sensor_data_2025.zip\",\"final_assessment\")\n",
    "print(inner_zip)\n"
   ]
  },
  {
   "cell_type": "code",
   "execution_count": 19,
   "id": "9ebeb362-c09a-4d35-bdd3-cb40316efe42",
   "metadata": {},
   "outputs": [
    {
     "data": {
      "text/plain": [
       "['station_info.json', 'readings.csv']"
      ]
     },
     "execution_count": 19,
     "metadata": {},
     "output_type": "execute_result"
    }
   ],
   "source": [
    "unzip('final_assessment/munich_data.zip','munich')\n",
    "unzip('final_assessment/sydney_data.zip','sydney')\n",
    "unzip('final_assessment/tokyo_data.zip','tokyo')"
   ]
  },
  {
   "cell_type": "code",
   "execution_count": null,
   "id": "d97af4be-af6f-4094-8a71-419367e7e1b8",
   "metadata": {},
   "outputs": [],
   "source": []
  },
  {
   "cell_type": "code",
   "execution_count": 64,
   "id": "82f9d094-d568-4e59-8d6b-c0615ecc4a26",
   "metadata": {},
   "outputs": [
    {
     "ename": "TypeError",
     "evalue": "Can only merge Series or DataFrame objects, a <class 'list'> was passed",
     "output_type": "error",
     "traceback": [
      "\u001b[31m---------------------------------------------------------------------------\u001b[39m",
      "\u001b[31mTypeError\u001b[39m                                 Traceback (most recent call last)",
      "\u001b[36mCell\u001b[39m\u001b[36m \u001b[39m\u001b[32mIn[64]\u001b[39m\u001b[32m, line 3\u001b[39m\n\u001b[32m      1\u001b[39m \u001b[38;5;66;03m#clean and merge\u001b[39;00m\n\u001b[32m----> \u001b[39m\u001b[32m3\u001b[39m merged_data = \u001b[43mpd\u001b[49m\u001b[43m.\u001b[49m\u001b[43mmerge\u001b[49m\u001b[43m(\u001b[49m\u001b[43mall_readings_df\u001b[49m\u001b[43m,\u001b[49m\u001b[43m \u001b[49m\u001b[43mall_station_info_df\u001b[49m\u001b[43m,\u001b[49m\u001b[43m \u001b[49m\u001b[43mon\u001b[49m\u001b[43m \u001b[49m\u001b[43m=\u001b[49m\u001b[43m \u001b[49m\u001b[33;43m\"\u001b[39;49m\u001b[33;43mstation_id\u001b[39;49m\u001b[33;43m\"\u001b[39;49m\u001b[43m)\u001b[49m\n\u001b[32m      4\u001b[39m merged_data\n",
      "\u001b[36mFile \u001b[39m\u001b[32m~\\AppData\\Local\\anaconda3\\Lib\\site-packages\\pandas\\core\\reshape\\merge.py:152\u001b[39m, in \u001b[36mmerge\u001b[39m\u001b[34m(left, right, how, on, left_on, right_on, left_index, right_index, sort, suffixes, copy, indicator, validate)\u001b[39m\n\u001b[32m    135\u001b[39m \u001b[38;5;129m@Substitution\u001b[39m(\u001b[33m\"\u001b[39m\u001b[38;5;130;01m\\n\u001b[39;00m\u001b[33mleft : DataFrame or named Series\u001b[39m\u001b[33m\"\u001b[39m)\n\u001b[32m    136\u001b[39m \u001b[38;5;129m@Appender\u001b[39m(_merge_doc, indents=\u001b[32m0\u001b[39m)\n\u001b[32m    137\u001b[39m \u001b[38;5;28;01mdef\u001b[39;00m\u001b[38;5;250m \u001b[39m\u001b[34mmerge\u001b[39m(\n\u001b[32m   (...)\u001b[39m\u001b[32m    150\u001b[39m     validate: \u001b[38;5;28mstr\u001b[39m | \u001b[38;5;28;01mNone\u001b[39;00m = \u001b[38;5;28;01mNone\u001b[39;00m,\n\u001b[32m    151\u001b[39m ) -> DataFrame:\n\u001b[32m--> \u001b[39m\u001b[32m152\u001b[39m     left_df = \u001b[43m_validate_operand\u001b[49m\u001b[43m(\u001b[49m\u001b[43mleft\u001b[49m\u001b[43m)\u001b[49m\n\u001b[32m    153\u001b[39m     right_df = _validate_operand(right)\n\u001b[32m    154\u001b[39m     \u001b[38;5;28;01mif\u001b[39;00m how == \u001b[33m\"\u001b[39m\u001b[33mcross\u001b[39m\u001b[33m\"\u001b[39m:\n",
      "\u001b[36mFile \u001b[39m\u001b[32m~\\AppData\\Local\\anaconda3\\Lib\\site-packages\\pandas\\core\\reshape\\merge.py:2692\u001b[39m, in \u001b[36m_validate_operand\u001b[39m\u001b[34m(obj)\u001b[39m\n\u001b[32m   2690\u001b[39m     \u001b[38;5;28;01mreturn\u001b[39;00m obj.to_frame()\n\u001b[32m   2691\u001b[39m \u001b[38;5;28;01melse\u001b[39;00m:\n\u001b[32m-> \u001b[39m\u001b[32m2692\u001b[39m     \u001b[38;5;28;01mraise\u001b[39;00m \u001b[38;5;167;01mTypeError\u001b[39;00m(\n\u001b[32m   2693\u001b[39m         \u001b[33mf\u001b[39m\u001b[33m\"\u001b[39m\u001b[33mCan only merge Series or DataFrame objects, a \u001b[39m\u001b[38;5;132;01m{\u001b[39;00m\u001b[38;5;28mtype\u001b[39m(obj)\u001b[38;5;132;01m}\u001b[39;00m\u001b[33m was passed\u001b[39m\u001b[33m\"\u001b[39m\n\u001b[32m   2694\u001b[39m     )\n",
      "\u001b[31mTypeError\u001b[39m: Can only merge Series or DataFrame objects, a <class 'list'> was passed"
     ]
    }
   ],
   "source": [
    "#clean and merge\n",
    "\n",
    "merged_data = pd.merge(all_readings_df, all_station_info_df, on = \"station_id\")\n",
    "merged_data"
   ]
  },
  {
   "cell_type": "code",
   "execution_count": null,
   "id": "de3090f1-6b40-4f5e-a70f-c559fa3a76aa",
   "metadata": {},
   "outputs": [],
   "source": []
  },
  {
   "cell_type": "code",
   "execution_count": 70,
   "id": "7e81bbd8-aae9-48a2-bbc7-fc487b8c9a42",
   "metadata": {},
   "outputs": [
    {
     "name": "stdin",
     "output_type": "stream",
     "text": [
      "Enter the target:  90\n"
     ]
    }
   ],
   "source": [
    "#linear search\n",
    "def linear_search(arr,target):\n",
    "    for idx in range(len(arr)):\n",
    "        if arr[idx] == target:\n",
    "            return idx\n",
    "    return -1\n",
    "\n",
    "arr = [20,50,30,40,70]\n",
    "target = int(input(\"Enter the target: \"))\n",
    "result = linear_search(arr,target)\n",
    "if result != -1:\n",
    "    print(f\"Found at index :{result}\")\n",
    "else:\n",
    "    print(\"Not Found\")"
   ]
  },
  {
   "cell_type": "code",
   "execution_count": 72,
   "id": "80d21624-fda2-4bd3-b4c7-2d16d8910e6d",
   "metadata": {},
   "outputs": [
    {
     "name": "stdout",
     "output_type": "stream",
     "text": [
      "Bubble Sort:  [3, 4, 5, 6, 8]\n"
     ]
    }
   ],
   "source": [
    "#bubble sort\n",
    "def bubble_sort(arr):\n",
    "    swapped = False\n",
    "    n = len(arr)\n",
    "    for i in range(n):\n",
    "        for j in range(0, n - i -1):\n",
    "            if arr[j] > arr[j+1]:\n",
    "                arr[j] ,arr[j+1] = arr[j+1] , arr[j]\n",
    "                swapped = True\n",
    "        if not swapped:\n",
    "            break\n",
    "    return arr\n",
    "\n",
    "arr = [4,6,8,3,5]\n",
    "result = bubble_sort(arr)\n",
    "print(\"Bubble Sort: \",result)"
   ]
  },
  {
   "cell_type": "code",
   "execution_count": null,
   "id": "eaef6cae-45ae-4331-8dd7-765521b42fa6",
   "metadata": {},
   "outputs": [],
   "source": []
  }
 ],
 "metadata": {
  "kernelspec": {
   "display_name": "Python 3 (ipykernel)",
   "language": "python",
   "name": "python3"
  },
  "language_info": {
   "codemirror_mode": {
    "name": "ipython",
    "version": 3
   },
   "file_extension": ".py",
   "mimetype": "text/x-python",
   "name": "python",
   "nbconvert_exporter": "python",
   "pygments_lexer": "ipython3",
   "version": "3.13.5"
  }
 },
 "nbformat": 4,
 "nbformat_minor": 5
}
