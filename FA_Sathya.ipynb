{
 "cells": [
  {
   "cell_type": "code",
   "execution_count": 2,
   "id": "63cb9ebf-f632-444d-a4c1-58da40829227",
   "metadata": {},
   "outputs": [],
   "source": [
    "#unzipping given zipfile\n",
    "import zipfile\n",
    "\n",
    "def unzip(zip_file):\n",
    "    with zipfile.ZipFile(zip_file,'r') as zf:\n",
    "        zf.extractall()\n",
    "\n",
    "unzip(\"Python Assessment.zip\")"
   ]
  },
  {
   "cell_type": "code",
   "execution_count": 63,
   "id": "9ebeb362-c09a-4d35-bdd3-cb40316efe42",
   "metadata": {},
   "outputs": [
    {
     "name": "stdout",
     "output_type": "stream",
     "text": [
      "['munich_data.zip', 'tokyo_data.zip', 'sydney_data.zip']\n",
      "['station_id', 'location', 'status', 'deployment_year', 'city', 'station_id', 'location', 'status', 'deployment_year', 'city', 'station_id', 'location', 'status', 'deployment_year', 'city']\n",
      "['station_id', 'timestamp', 'temperature_celsius', 'humidity_percent', 'pm2_5', 'city', 'station_id', 'timestamp', 'temperature_celsius', 'humidity_percent', 'pm2_5', 'city', 'station_id', 'timestamp', 'temperature_celsius', 'humidity_percent', 'pm2_5', 'city']\n"
     ]
    }
   ],
   "source": [
    "#unzipping given sensor_data_2025\n",
    "import zipfile\n",
    "import pandas as pd\n",
    "\n",
    "all_readings_df =[]\n",
    "all_station_info_df=[]\n",
    "\n",
    "def unzip(zip_file):\n",
    "    with zipfile.ZipFile(zip_file,'r') as zf:\n",
    "        zf.extractall()\n",
    "        files = zf.namelist()\n",
    "        if zip_file.endswith('.zip'):\n",
    "            city_name = zip_file.split('_')[0]\n",
    "            for f in files:\n",
    "                if f.endswith('.json'):\n",
    "                    df_json = pd.read_json(f)\n",
    "                    df_json['city'] = city_name\n",
    "                    all_readings_df.extend(df_json)\n",
    "                \n",
    "                if f.endswith('.csv'):\n",
    "                    df_csv = pd.read_csv(f)\n",
    "                    df_csv['city'] = city_name\n",
    "                    all_station_info_df.extend(df_csv)\n",
    "            \n",
    "        return files\n",
    "\n",
    "inner_zip = unzip(\"sensor_data_2025.zip\")\n",
    "print(inner_zip)\n",
    "\n",
    "for zip_file in inner_zip:\n",
    "    unzip(zip_file)\n",
    "\n",
    "\n",
    "print(all_readings_df)\n",
    "print(all_station_info_df)\n"
   ]
  },
  {
   "cell_type": "code",
   "execution_count": null,
   "id": "82f9d094-d568-4e59-8d6b-c0615ecc4a26",
   "metadata": {},
   "outputs": [],
   "source": []
  },
  {
   "cell_type": "code",
   "execution_count": null,
   "id": "7e81bbd8-aae9-48a2-bbc7-fc487b8c9a42",
   "metadata": {},
   "outputs": [],
   "source": []
  }
 ],
 "metadata": {
  "kernelspec": {
   "display_name": "Python 3 (ipykernel)",
   "language": "python",
   "name": "python3"
  },
  "language_info": {
   "codemirror_mode": {
    "name": "ipython",
    "version": 3
   },
   "file_extension": ".py",
   "mimetype": "text/x-python",
   "name": "python",
   "nbconvert_exporter": "python",
   "pygments_lexer": "ipython3",
   "version": "3.13.5"
  }
 },
 "nbformat": 4,
 "nbformat_minor": 5
}
